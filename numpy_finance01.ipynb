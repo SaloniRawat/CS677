{
 "cells": [
  {
   "cell_type": "markdown",
   "metadata": {},
   "source": [
    "## Numpy - Applications in Finance"
   ]
  },
  {
   "cell_type": "code",
   "execution_count": 1,
   "metadata": {},
   "outputs": [],
   "source": [
    "import numpy as np\n",
    "\n",
    "np.set_printoptions(suppress=True)"
   ]
  },
  {
   "cell_type": "code",
   "execution_count": 2,
   "metadata": {},
   "outputs": [],
   "source": [
    "datafile = 'http://people.bu.edu/kalathur/datasets/AAPL2.csv'"
   ]
  },
  {
   "cell_type": "code",
   "execution_count": 3,
   "metadata": {},
   "outputs": [],
   "source": [
    "# Import closing price and volume from the file (columns 5 and 6)\n",
    "# First column is column 0\n",
    "\n",
    "c, v = np.loadtxt(datafile, delimiter=',', skiprows=1, usecols=(5,6), unpack=True)\n",
    "\n",
    "c = np.round(c, 2)"
   ]
  },
  {
   "cell_type": "code",
   "execution_count": 4,
   "metadata": {},
   "outputs": [
    {
     "data": {
      "text/plain": [
       "array([167.24, 168.68, 167.98, 168.59, 168.22])"
      ]
     },
     "execution_count": 4,
     "metadata": {},
     "output_type": "execute_result"
    }
   ],
   "source": [
    "c[:5]"
   ]
  },
  {
   "cell_type": "code",
   "execution_count": 5,
   "metadata": {},
   "outputs": [
    {
     "data": {
      "text/plain": [
       "array([20993400., 22283500., 22490200., 21835700., 24626800.])"
      ]
     },
     "execution_count": 5,
     "metadata": {},
     "output_type": "execute_result"
    }
   ],
   "source": [
    "v[:5]"
   ]
  },
  {
   "cell_type": "code",
   "execution_count": 6,
   "metadata": {},
   "outputs": [
    {
     "data": {
      "text/plain": [
       "252"
      ]
     },
     "execution_count": 6,
     "metadata": {},
     "output_type": "execute_result"
    }
   ],
   "source": [
    "# number of values in the dataset\n",
    "\n",
    "len(c)"
   ]
  },
  {
   "cell_type": "markdown",
   "metadata": {},
   "source": [
    "**Volume Weighted Average Price (VWAP)**"
   ]
  },
  {
   "cell_type": "code",
   "execution_count": 7,
   "metadata": {},
   "outputs": [
    {
     "name": "stdout",
     "output_type": "stream",
     "text": [
      "VWAP = 225.42521029984195\n"
     ]
    }
   ],
   "source": [
    "vwap = np.average(c, weights=v)\n",
    "print(\"VWAP =\", vwap)"
   ]
  },
  {
   "cell_type": "code",
   "execution_count": 8,
   "metadata": {},
   "outputs": [
    {
     "name": "stdout",
     "output_type": "stream",
     "text": [
      "mean = 223.410873015873\n"
     ]
    }
   ],
   "source": [
    "# Arithmetic mean\n",
    "\n",
    "print(\"mean =\", np.mean(c))\n"
   ]
  },
  {
   "cell_type": "markdown",
   "metadata": {},
   "source": [
    "**Value Range**"
   ]
  },
  {
   "cell_type": "code",
   "execution_count": 9,
   "metadata": {},
   "outputs": [],
   "source": [
    "# Import daily high and low price from the file (columns 2 and 3)\n",
    "\n",
    "h, l = np.loadtxt(datafile, delimiter=',', skiprows=1, usecols=(2,3), unpack=True)\n",
    "\n",
    "h = np.round(h, 2)\n",
    "l = np.round(l, 2)"
   ]
  },
  {
   "cell_type": "code",
   "execution_count": 10,
   "metadata": {},
   "outputs": [
    {
     "data": {
      "text/plain": [
       "array([171.21, 171.  , 172.48, 171.26, 171.7 ])"
      ]
     },
     "execution_count": 10,
     "metadata": {},
     "output_type": "execute_result"
    }
   ],
   "source": [
    "h[:5]"
   ]
  },
  {
   "cell_type": "code",
   "execution_count": 11,
   "metadata": {},
   "outputs": [
    {
     "data": {
      "text/plain": [
       "array([169.25, 169.7 , 169.92, 169.38, 169.75])"
      ]
     },
     "execution_count": 11,
     "metadata": {},
     "output_type": "execute_result"
    }
   ],
   "source": [
    "l[:5]"
   ]
  },
  {
   "cell_type": "code",
   "execution_count": 12,
   "metadata": {},
   "outputs": [
    {
     "name": "stdout",
     "output_type": "stream",
     "text": [
      "highest daily high = 327.85\n",
      "lowest  daily low = 169.25\n"
     ]
    }
   ],
   "source": [
    "print(\"highest daily high =\", np.max(h))\n",
    "print(\"lowest  daily low =\", np.min(l))"
   ]
  },
  {
   "cell_type": "code",
   "execution_count": 13,
   "metadata": {},
   "outputs": [
    {
     "name": "stdout",
     "output_type": "stream",
     "text": [
      "Spread high price 156.85000000000002\n",
      "Spread low price 152.13\n"
     ]
    }
   ],
   "source": [
    "# Spread of data\n",
    "\n",
    "print(\"Spread high price\", np.ptp(h))\n",
    "print(\"Spread low price\", np.ptp(l))"
   ]
  },
  {
   "cell_type": "code",
   "execution_count": 14,
   "metadata": {},
   "outputs": [
    {
     "name": "stdout",
     "output_type": "stream",
     "text": [
      "Spread high price 156.85000000000002\n",
      "Spread low price 152.13\n"
     ]
    }
   ],
   "source": [
    "print(\"Spread high price\", np.max(h) - np.min(h))\n",
    "print(\"Spread low price\", np.max(l) - np.min(l))"
   ]
  },
  {
   "cell_type": "markdown",
   "metadata": {},
   "source": [
    "**Statistics**"
   ]
  },
  {
   "cell_type": "code",
   "execution_count": 15,
   "metadata": {},
   "outputs": [
    {
     "name": "stdout",
     "output_type": "stream",
     "text": [
      "median = 206.14999999999998\n"
     ]
    }
   ],
   "source": [
    "print(\"median =\", np.median(c))"
   ]
  },
  {
   "cell_type": "code",
   "execution_count": 16,
   "metadata": {},
   "outputs": [
    {
     "name": "stdout",
     "output_type": "stream",
     "text": [
      "variance = 1872.2772635235576\n"
     ]
    }
   ],
   "source": [
    "print(\"variance =\", np.var(c))"
   ]
  },
  {
   "cell_type": "code",
   "execution_count": 17,
   "metadata": {},
   "outputs": [
    {
     "name": "stdout",
     "output_type": "stream",
     "text": [
      "Standard deviation = 43.269819314662705\n"
     ]
    }
   ],
   "source": [
    "print(\"Standard deviation =\", np.std(c))"
   ]
  },
  {
   "cell_type": "markdown",
   "metadata": {},
   "source": [
    "**Simple Returns**\n",
    " - differences between consecutive values / value of the previous day"
   ]
  },
  {
   "cell_type": "code",
   "execution_count": 18,
   "metadata": {},
   "outputs": [
    {
     "data": {
      "text/plain": [
       "array([ 0.00861038, -0.00414987,  0.00363138, -0.00219467,  0.0029723 ])"
      ]
     },
     "execution_count": 18,
     "metadata": {},
     "output_type": "execute_result"
    }
   ],
   "source": [
    "returns = np.diff( c ) / c[ : -1]\n",
    "returns[:5]"
   ]
  },
  {
   "cell_type": "code",
   "execution_count": 19,
   "metadata": {},
   "outputs": [
    {
     "data": {
      "text/plain": [
       "(0.04907108239095314, -0.05809192343126213)"
      ]
     },
     "execution_count": 19,
     "metadata": {},
     "output_type": "execute_result"
    }
   ],
   "source": [
    "np.max(returns), np.min(returns)"
   ]
  },
  {
   "cell_type": "code",
   "execution_count": 20,
   "metadata": {},
   "outputs": [
    {
     "name": "stdout",
     "output_type": "stream",
     "text": [
      "Standard deviation = 0.01473850574923547\n"
     ]
    }
   ],
   "source": [
    "print(\"Standard deviation =\", np.std(returns))"
   ]
  },
  {
   "cell_type": "markdown",
   "metadata": {},
   "source": [
    "**Log Returns**\n",
    " - log of all values and calculate differences between them\n",
    " - log(a) - log(b) = log(a/b)\n",
    " - measure rate of change\n",
    " - input should not have zeros or negative numbers"
   ]
  },
  {
   "cell_type": "code",
   "execution_count": 21,
   "metadata": {},
   "outputs": [],
   "source": [
    "logreturns = np.diff( np.log(c) )"
   ]
  },
  {
   "cell_type": "code",
   "execution_count": 22,
   "metadata": {},
   "outputs": [
    {
     "data": {
      "text/plain": [
       "array([ 0.00857352, -0.0041585 ,  0.00362481, -0.00219709,  0.00296789])"
      ]
     },
     "execution_count": 22,
     "metadata": {},
     "output_type": "execute_result"
    }
   ],
   "source": [
    "logreturns[:5]"
   ]
  },
  {
   "cell_type": "code",
   "execution_count": 23,
   "metadata": {},
   "outputs": [
    {
     "data": {
      "text/plain": [
       "array([ 0.00857352, -0.0041585 ,  0.00362481, -0.00219709,  0.00296789])"
      ]
     },
     "execution_count": 23,
     "metadata": {},
     "output_type": "execute_result"
    }
   ],
   "source": [
    "# Alternatively\n",
    "\n",
    "logreturns = np.log(c[1:]/c[:-1])\n",
    "\n",
    "logreturns[:5]"
   ]
  },
  {
   "cell_type": "markdown",
   "metadata": {},
   "source": [
    "**Positive Returns**"
   ]
  },
  {
   "cell_type": "code",
   "execution_count": 24,
   "metadata": {},
   "outputs": [
    {
     "name": "stdout",
     "output_type": "stream",
     "text": [
      "Indices with positive returns\n",
      " (array([  0,   2,   4,   5,   7,   8,   9,  10,  12,  13,  17,  18,  19,\n",
      "        20,  21,  22,  23,  25,  26,  30,  31,  32,  33,  34,  35,  36,\n",
      "        37,  38,  40,  43,  44,  45,  46,  47,  48,  52,  54,  56,  59,\n",
      "        63,  64,  68,  74,  77,  78,  79,  80,  81,  82,  86,  87,  89,\n",
      "        93,  96,  97,  98, 101, 102, 104, 105, 108, 110, 111, 114, 115,\n",
      "       117, 121, 122, 123, 126, 129, 130, 131, 132, 135, 137, 138, 141,\n",
      "       142, 144, 145, 146, 149, 150, 151, 154, 156, 159, 160, 162, 163,\n",
      "       164, 166, 167, 168, 172, 173, 174, 176, 177, 178, 179, 182, 183,\n",
      "       184, 186, 187, 188, 189, 191, 193, 194, 199, 201, 205, 206, 207,\n",
      "       209, 210, 211, 212, 213, 214, 216, 218, 219, 220, 222, 223, 224,\n",
      "       226, 228, 229, 230, 231, 234, 235, 237, 238, 241, 242, 246, 247,\n",
      "       248, 250]),)\n"
     ]
    }
   ],
   "source": [
    "pos_ret_indices = np.where(returns > 0)\n",
    "print(\"Indices with positive returns\\n\", pos_ret_indices)"
   ]
  },
  {
   "cell_type": "code",
   "execution_count": 25,
   "metadata": {},
   "outputs": [
    {
     "data": {
      "text/plain": [
       "(array([  0,   2,   4,   5,   7,   8,   9,  10,  12,  13,  17,  18,  19,\n",
       "         20,  21,  22,  23,  25,  26,  30,  31,  32,  33,  34,  35,  36,\n",
       "         37,  38,  40,  43,  44,  45,  46,  47,  48,  52,  54,  56,  59,\n",
       "         63,  64,  68,  74,  77,  78,  79,  80,  81,  82,  86,  87,  89,\n",
       "         93,  96,  97,  98, 101, 102, 104, 105, 108, 110, 111, 114, 115,\n",
       "        117, 121, 122, 123, 126, 129, 130, 131, 132, 135, 137, 138, 141,\n",
       "        142, 144, 145, 146, 149, 150, 151, 154, 156, 159, 160, 162, 163,\n",
       "        164, 166, 167, 168, 172, 173, 174, 176, 177, 178, 179, 182, 183,\n",
       "        184, 186, 187, 188, 189, 191, 193, 194, 199, 201, 205, 206, 207,\n",
       "        209, 210, 211, 212, 213, 214, 216, 218, 219, 220, 222, 223, 224,\n",
       "        226, 228, 229, 230, 231, 234, 235, 237, 238, 241, 242, 246, 247,\n",
       "        248, 250]),)"
      ]
     },
     "execution_count": 25,
     "metadata": {},
     "output_type": "execute_result"
    }
   ],
   "source": [
    "np.where(logreturns > 0)"
   ]
  },
  {
   "cell_type": "markdown",
   "metadata": {},
   "source": [
    "**Volatility**\n",
    " - measures price variation\n",
    " - annualized volatility is equal to the standard deviation of the log returns as a ratio of its mean, divided by one over the square root of the number of business days in a year"
   ]
  },
  {
   "cell_type": "code",
   "execution_count": 26,
   "metadata": {},
   "outputs": [
    {
     "name": "stdout",
     "output_type": "stream",
     "text": [
      "Annual volatility 89.96452176931065\n"
     ]
    }
   ],
   "source": [
    "annual_volatility = np.std(logreturns)/np.mean(logreturns)\n",
    "annual_volatility = annual_volatility / np.sqrt(1./252.)\n",
    "\n",
    "print(\"Annual volatility\", annual_volatility)\n"
   ]
  },
  {
   "cell_type": "code",
   "execution_count": 27,
   "metadata": {},
   "outputs": [
    {
     "name": "stdout",
     "output_type": "stream",
     "text": [
      "Monthly volatility 25.970520430513723\n"
     ]
    }
   ],
   "source": [
    "print(\"Monthly volatility\", annual_volatility * np.sqrt(1./12.))"
   ]
  },
  {
   "cell_type": "markdown",
   "metadata": {},
   "source": [
    "**Dealing with Dates**"
   ]
  },
  {
   "cell_type": "code",
   "execution_count": 28,
   "metadata": {},
   "outputs": [],
   "source": [
    "from datetime import datetime\n",
    "import calendar"
   ]
  },
  {
   "cell_type": "markdown",
   "metadata": {},
   "source": [
    "Monday 0, Tuesday 1, Wednesday 2, Thursday 3, Friday 4, Saturday 5, Sunday 6"
   ]
  },
  {
   "cell_type": "code",
   "execution_count": 29,
   "metadata": {},
   "outputs": [
    {
     "data": {
      "text/plain": [
       "['Monday', 'Tuesday', 'Wednesday', 'Thursday', 'Friday', 'Saturday', 'Sunday']"
      ]
     },
     "execution_count": 29,
     "metadata": {},
     "output_type": "execute_result"
    }
   ],
   "source": [
    "list(calendar.day_name)"
   ]
  },
  {
   "cell_type": "code",
   "execution_count": 30,
   "metadata": {},
   "outputs": [],
   "source": [
    "def datestr2num(s):\n",
    "   return datetime.strptime(s, \"%Y-%m-%d\").date().weekday()"
   ]
  },
  {
   "cell_type": "code",
   "execution_count": 31,
   "metadata": {},
   "outputs": [
    {
     "data": {
      "text/plain": [
       "0"
      ]
     },
     "execution_count": 31,
     "metadata": {},
     "output_type": "execute_result"
    }
   ],
   "source": [
    "datestr2num('2020-2-10')"
   ]
  },
  {
   "cell_type": "code",
   "execution_count": 32,
   "metadata": {},
   "outputs": [
    {
     "data": {
      "text/plain": [
       "1"
      ]
     },
     "execution_count": 32,
     "metadata": {},
     "output_type": "execute_result"
    }
   ],
   "source": [
    "datestr2num('2020-2-11')"
   ]
  },
  {
   "cell_type": "code",
   "execution_count": 33,
   "metadata": {},
   "outputs": [],
   "source": [
    "# Import Date and closing price from the file (columns 0 and 5)\n",
    "\n",
    "dates, close = np.loadtxt(datafile, delimiter=',', \n",
    "                          skiprows=1, usecols=(0,5), \n",
    "                          converters={0: datestr2num},\n",
    "                          encoding='utf-8',\n",
    "                          unpack=True)\n",
    "\n",
    "close = np.round(close, 2)"
   ]
  },
  {
   "cell_type": "code",
   "execution_count": 34,
   "metadata": {},
   "outputs": [
    {
     "data": {
      "text/plain": [
       "array([167.24, 168.68, 167.98, 168.59, 168.22])"
      ]
     },
     "execution_count": 34,
     "metadata": {},
     "output_type": "execute_result"
    }
   ],
   "source": [
    "close[:5]"
   ]
  },
  {
   "cell_type": "code",
   "execution_count": 35,
   "metadata": {},
   "outputs": [
    {
     "data": {
      "text/plain": [
       "array([0., 1., 2., 3., 4.])"
      ]
     },
     "execution_count": 35,
     "metadata": {},
     "output_type": "execute_result"
    }
   ],
   "source": [
    "dates[:5]"
   ]
  },
  {
   "cell_type": "code",
   "execution_count": 36,
   "metadata": {},
   "outputs": [
    {
     "data": {
      "text/plain": [
       "array([0., 1., 2., 3., 4.])"
      ]
     },
     "execution_count": 36,
     "metadata": {},
     "output_type": "execute_result"
    }
   ],
   "source": [
    "np.unique(dates)"
   ]
  },
  {
   "cell_type": "code",
   "execution_count": 37,
   "metadata": {},
   "outputs": [
    {
     "name": "stdout",
     "output_type": "stream",
     "text": [
      "Day 0 Average 224.0\n",
      "Day 1 Average 222.0\n",
      "Day 2 Average 221.0\n",
      "Day 3 Average 224.0\n",
      "Day 4 Average 225.0\n"
     ]
    }
   ],
   "source": [
    "# averages based on day of week\n",
    "\n",
    "averages = np.zeros(len(np.unique(dates)))\n",
    "\n",
    "for i in range(5):\n",
    "    indices = np.where(dates == i) \n",
    "    prices  = np.take(close, indices)\n",
    "    avg = np.mean(prices)\n",
    "    avg = np.round(avg)\n",
    "    print(\"Day\", i, \"Average\", avg)\n",
    "    averages[i] = avg"
   ]
  },
  {
   "cell_type": "code",
   "execution_count": 38,
   "metadata": {},
   "outputs": [
    {
     "name": "stdout",
     "output_type": "stream",
     "text": [
      "Highest average: 225.0\n",
      "Top day of the week index: 4\n",
      "Top day of the week is Friday\n",
      "\n",
      "Lowest average: 221.0\n",
      "Bottom day of the week index: 2\n",
      "Bottom day of the week is Wednesday\n"
     ]
    }
   ],
   "source": [
    "top = np.max(averages)\n",
    "print(\"Highest average:\", top)\n",
    "print(\"Top day of the week index:\", np.argmax(averages))\n",
    "print(\"Top day of the week is\", calendar.day_name[np.argmax(averages)])\n",
    "print()\n",
    "\n",
    "bottom = np.min(averages)\n",
    "print(\"Lowest average:\", bottom)\n",
    "print(\"Bottom day of the week index:\", np.argmin(averages))\n",
    "print(\"Bottom day of the week is\", calendar.day_name[np.argmin(averages)])"
   ]
  },
  {
   "cell_type": "code",
   "execution_count": null,
   "metadata": {},
   "outputs": [],
   "source": []
  },
  {
   "cell_type": "markdown",
   "metadata": {},
   "source": [
    "## Average True Range (ATR)\n",
    " - provides degree of price volatility\n",
    " - N-period smoothed moving average of the true range values\n",
    " - Recommended 14 period smoothing\n",
    " - Range of a day : $ (high-low) $\n",
    " - True Range TR = $ max[(high-low), abs(high-close_{prev}), abs(low-close_{prev})] $\n",
    " - $$ATR_{t} = \\frac{ ATR_{t-1} * (N-1) + TR_{t} }{N}$$\n",
    " - First ATR is the arithmetic mean of the first N TR values\n",
    " \n",
    " "
   ]
  },
  {
   "cell_type": "markdown",
   "metadata": {},
   "source": [
    "Example: https://school.stockcharts.com/doku.php?id=technical_indicators:average_true_range_atr\n",
    "\n",
    "<img src=\"https://school.stockcharts.com/lib/exe/fetch.php?media=technical_indicators:average_true_range_atr:atr-2-qqqqsh.png\"/>"
   ]
  },
  {
   "cell_type": "code",
   "execution_count": 39,
   "metadata": {},
   "outputs": [],
   "source": [
    "dates, open , high, low, close = np.loadtxt(datafile, delimiter=',',\n",
    "                                     skiprows=1, usecols=(0,1,2,3,4), \n",
    "                                            converters={0: datestr2num},\n",
    "                                            encoding='utf-8',\n",
    "                                            unpack=True)\n",
    "\n",
    "open  = np.round(open, 2)\n",
    "high  = np.round(high, 2)\n",
    "low   = np.round(low, 2)\n",
    "close = np.round(close, 2)"
   ]
  },
  {
   "cell_type": "code",
   "execution_count": 40,
   "metadata": {},
   "outputs": [
    {
     "data": {
      "text/plain": [
       "252"
      ]
     },
     "execution_count": 40,
     "metadata": {},
     "output_type": "execute_result"
    }
   ],
   "source": [
    "num_days = len(high)\n",
    "num_days"
   ]
  },
  {
   "cell_type": "code",
   "execution_count": 41,
   "metadata": {},
   "outputs": [],
   "source": [
    "# ATR Window\n",
    "\n",
    "N = 14"
   ]
  },
  {
   "cell_type": "code",
   "execution_count": 42,
   "metadata": {},
   "outputs": [],
   "source": [
    "previous_close = close[: -1]"
   ]
  },
  {
   "cell_type": "code",
   "execution_count": 43,
   "metadata": {},
   "outputs": [
    {
     "data": {
      "text/plain": [
       "array([ 1.96,  1.57,  2.56,  1.88,  1.95,  1.95,  2.39,  2.07,  1.94,\n",
       "        2.9 ,  2.13,  2.27,  1.99,  2.26,  3.78,  1.46,  1.55,  2.42,\n",
       "        3.57,  6.21,  3.77,  2.39,  2.39,  3.6 ,  2.6 ,  3.07,  4.76,\n",
       "        8.17,  6.91,  5.38,  8.3 ,  3.21,  2.03,  1.54,  3.3 ,  3.41,\n",
       "        3.35,  3.23,  1.41,  3.89,  3.62,  2.56,  2.56,  3.93,  1.84,\n",
       "        2.81,  4.77,  1.63,  2.6 ,  3.85,  1.43,  2.64,  2.88,  2.11,\n",
       "        4.29, 14.64,  4.52,  2.69,  5.34,  6.59,  3.59,  5.02,  6.08,\n",
       "        7.7 ,  4.29,  5.73,  3.63,  4.14,  4.65,  4.91,  3.16,  2.73,\n",
       "        3.52,  2.68,  3.35,  2.56,  3.  ,  7.65,  6.53,  5.35,  3.32,\n",
       "        6.7 ,  5.22,  3.42,  2.58,  3.19,  3.29,  2.79,  6.4 ,  2.57,\n",
       "        2.74,  2.7 ,  1.99,  3.97,  5.42,  2.  ,  2.45,  6.57,  1.77,\n",
       "        1.75,  2.18,  2.99,  2.7 ,  2.49,  2.68,  2.25,  2.57,  2.61,\n",
       "        1.82,  2.53,  4.14,  4.64,  1.69,  1.98,  2.51,  2.71,  2.9 ,\n",
       "        2.85, 12.59, 11.29,  4.8 ,  6.07,  4.73,  5.74,  4.49,  3.47,\n",
       "        2.9 , 11.66,  3.85,  5.47,  5.42,  6.23,  3.03,  3.29,  3.69,\n",
       "       11.05,  4.55,  5.02,  2.4 ,  3.79,  3.25,  2.76,  3.78,  4.78,\n",
       "        1.91,  5.37,  5.07,  7.01,  3.56,  3.77,  2.57,  1.7 ,  3.41,\n",
       "        3.39,  5.09,  2.19,  5.3 ,  4.36,  2.11,  3.68,  5.76,  4.25,\n",
       "        5.65,  5.83,  6.67,  4.09,  3.73,  3.39,  3.41,  7.55,  3.46,\n",
       "        2.77,  2.04,  2.63,  3.29,  4.58,  2.58,  3.28,  2.99,  3.85,\n",
       "        2.67,  7.18,  4.09, 11.91,  7.17,  2.47,  1.87,  2.12,  3.11,\n",
       "        3.59,  4.19,  1.87,  3.71,  2.78,  3.14,  3.2 ,  2.61,  5.68,\n",
       "        2.83,  2.34,  4.66,  4.66,  3.69,  2.1 ,  4.8 ,  4.63,  3.86,\n",
       "        4.15,  5.42,  5.89,  4.21,  2.62,  5.24,  4.37,  5.64,  2.97,\n",
       "        2.78,  2.23,  4.09,  4.81,  1.97,  5.71,  5.85,  7.47,  4.16,\n",
       "        6.95,  4.08,  7.21,  3.42,  7.28,  7.24,  4.42,  6.74,  5.4 ,\n",
       "        5.95,  4.36,  3.74,  3.02,  3.42,  3.91,  5.81,  6.89,  9.45,\n",
       "       10.16,  5.34, 14.39, 11.27, 10.98,  5.91,  4.96,  5.4 ,  7.7 ])"
      ]
     },
     "execution_count": 43,
     "metadata": {},
     "output_type": "execute_result"
    }
   ],
   "source": [
    "# TR except for first day\n",
    "\n",
    "truerange = np.maximum(high[1:] - low[1:], \n",
    "                       np.abs(high[1:] - previous_close), \n",
    "                       np.abs(previous_close - low[1:]) )\n",
    "\n",
    "# first day true range = (high[0] - low[0])\n",
    "truerange = np.insert(truerange, 0, (high[0] - low[0]))\n",
    "\n",
    "truerange\n"
   ]
  },
  {
   "cell_type": "code",
   "execution_count": 44,
   "metadata": {},
   "outputs": [
    {
     "data": {
      "text/plain": [
       "252"
      ]
     },
     "execution_count": 44,
     "metadata": {},
     "output_type": "execute_result"
    }
   ],
   "source": [
    "len(truerange)"
   ]
  },
  {
   "cell_type": "code",
   "execution_count": null,
   "metadata": {},
   "outputs": [],
   "source": []
  },
  {
   "cell_type": "code",
   "execution_count": 45,
   "metadata": {},
   "outputs": [
    {
     "data": {
      "text/plain": [
       "239"
      ]
     },
     "execution_count": 45,
     "metadata": {},
     "output_type": "execute_result"
    }
   ],
   "source": [
    "atr = np.zeros(num_days - N + 1)\n",
    "len(atr)"
   ]
  },
  {
   "cell_type": "code",
   "execution_count": 46,
   "metadata": {},
   "outputs": [
    {
     "data": {
      "text/plain": [
       "2.1300000000000017"
      ]
     },
     "execution_count": 46,
     "metadata": {},
     "output_type": "execute_result"
    }
   ],
   "source": [
    "atr[0] = np.mean(truerange[:N])\n",
    "atr[0]"
   ]
  },
  {
   "cell_type": "code",
   "execution_count": 47,
   "metadata": {},
   "outputs": [
    {
     "name": "stdout",
     "output_type": "stream",
     "text": [
      "ATR [2.13       2.24785714 2.19158163 2.14575437 2.16534335 2.26567596\n",
      " 2.5474134  2.63474101 2.61725951 2.60102669 2.67238192 2.66721179\n",
      " 2.69598237 2.8434122  3.22388276 3.48717685 3.6223785  3.95649432\n",
      " 3.9031733  3.76937521 3.61013412 3.58798168 3.57526871 3.55917809\n",
      " 3.53566536 3.38383212 3.41998697 3.43427362 3.3718255  3.31383797\n",
      " 3.35784954 3.24943172 3.21804374 3.32889775 3.20754792 3.16415164\n",
      " 3.2131408  3.0857736  3.05393263 3.04150887 2.97497252 3.06890306\n",
      " 3.89540998 3.94002356 3.85073616 3.95711215 4.14517557 4.10552017\n",
      " 4.17084016 4.30720872 4.54955095 4.5310116  4.61665363 4.54617837\n",
      " 4.51716563 4.5266538  4.55403567 4.45446169 4.33128586 4.27333687\n",
      " 4.15952709 4.10170373 3.99158203 3.92075474 4.18712941 4.3544773\n",
      " 4.42558607 4.34661564 4.51471452 4.56509205 4.48329976 4.34734978\n",
      " 4.26468194 4.1950618  4.09470024 4.25936451 4.13869562 4.03878879\n",
      " 3.94316102 3.80364952 3.81553169 3.93013657 3.79226967 3.69639327\n",
      " 3.90165089 3.74939011 3.60657654 3.50467821 3.46791548 3.41306438\n",
      " 3.34713121 3.29947898 3.22451619 3.17776504 3.13721039 3.04312393\n",
      " 3.00647222 3.08743849 3.19833574 3.09059748 3.01126909 2.97546415\n",
      " 2.95650243 2.95246654 2.9451475  3.63406554 4.180918   4.22513814\n",
      " 4.35691399 4.38356299 4.48045135 4.48113339 4.40890958 4.30113032\n",
      " 4.82676387 4.75699502 4.80792395 4.85164367 4.95009769 4.81294786\n",
      " 4.70416587 4.63172545 5.09017363 5.0515898  5.04933339 4.86009529\n",
      " 4.78365991 4.67411277 4.53739043 4.48329112 4.50448461 4.31916428\n",
      " 4.39422397 4.44249369 4.625887   4.54975221 4.49405562 4.35662308\n",
      " 4.16686429 4.11280255 4.0611738  4.13466139 3.995757   4.08891722\n",
      " 4.10828027 3.96554597 3.94514983 4.07478198 4.08729755 4.19891916\n",
      " 4.31542493 4.48360886 4.45549395 4.40367295 4.33126774 4.2654629\n",
      " 4.50007269 4.42578179 4.30751166 4.14554654 4.03729322 3.98391513\n",
      " 4.02649262 3.92317172 3.87723088 3.81385725 3.81643887 3.73455038\n",
      " 3.98065393 3.98846436 4.55428833 4.74112488 4.57890168 4.3854087\n",
      " 4.22359379 4.14405138 4.10447628 4.11058512 3.95054332 3.93336166\n",
      " 3.85097868 3.80019449 3.75732345 3.67537178 3.81855951 3.74794812\n",
      " 3.64738039 3.71971037 3.78687391 3.77995435 3.65995761 3.74138921\n",
      " 3.80486141 3.80879988 3.83317131 3.94651622 4.08533649 4.09424103\n",
      " 3.9889381  4.07829966 4.0991354  4.20919716 4.12068307 4.02492\n",
      " 3.89671143 3.91051775 3.97476648 3.83156888 3.96574253 4.10033235\n",
      " 4.3410229  4.32809269 4.51537178 4.4842738  4.67896853 4.5890422\n",
      " 4.78125347 4.95687823 4.91852978 5.0486348  5.07373231 5.13632286\n",
      " 5.08087123 4.98509471 4.8447308  4.74296432 4.68346687 4.76393352\n",
      " 4.91579541 5.23966717 5.59111951 5.5731824  6.20295509 6.56488687\n",
      " 6.88025209 6.81094837 6.67873777 6.58739936 6.66687084]\n"
     ]
    }
   ],
   "source": [
    "for i in range(1, len(atr)):\n",
    "   atr[i] = (N - 1) * atr[i - 1] + truerange[N + i - 1]\n",
    "   atr[i] /= N\n",
    "\n",
    "print(\"ATR\", atr)"
   ]
  },
  {
   "cell_type": "markdown",
   "metadata": {},
   "source": [
    "**Interpreting ATR and stock prices**\n",
    "\n",
    "https://www.tradingview.com/wiki/Average_True_Range_(ATR)\n"
   ]
  },
  {
   "cell_type": "code",
   "execution_count": 48,
   "metadata": {},
   "outputs": [],
   "source": [
    "import matplotlib.pyplot as plt\n",
    "import matplotlib as mpl\n",
    "\n",
    "mpl.rcParams[\"figure.figsize\"] = [12,8]"
   ]
  },
  {
   "cell_type": "code",
   "execution_count": 49,
   "metadata": {},
   "outputs": [],
   "source": [
    "from mpl_finance import candlestick_ohlc"
   ]
  },
  {
   "cell_type": "code",
   "execution_count": 50,
   "metadata": {},
   "outputs": [
    {
     "data": {
      "image/png": "[encoded data removed]",
      "text/plain": [
       "<Figure size 864x432 with 2 Axes>"
      ]
     },
     "metadata": {
      "needs_background": "light"
     },
     "output_type": "display_data"
    }
   ],
   "source": [
    "# Plot last 20 values\n",
    "\n",
    "fig, ax = plt.subplots(2, figsize=(12,6))\n",
    "\n",
    "\n",
    "t = np.arange(N - 1, num_days)\n",
    "ax[0].plot(t[-20:], atr[-20:], '--', lw=2.0, label='ATR')\n",
    "\n",
    "candlestick_ohlc(ax[1], zip(np.arange(len(high[-20:])),\n",
    "                         open[-20:], high[-20:],\n",
    "                         low[-20:], close[-20:]))\n",
    "\n",
    "plt.xlabel('Days')\n",
    "plt.show()"
   ]
  },
  {
   "cell_type": "markdown",
   "metadata": {},
   "source": [
    "**Interpreting Moving Averages**\n",
    "\n",
    "https://www.tradingview.com/wiki/Moving_Average"
   ]
  },
  {
   "cell_type": "markdown",
   "metadata": {},
   "source": [
    "## Simple Moving Average (SMA)\n",
    " - For analyzing time-series data\n",
    " - Moving window of N periods\n",
    " - Mean of values inside the window\n",
    " - an unweighted moving average"
   ]
  },
  {
   "cell_type": "code",
   "execution_count": 51,
   "metadata": {},
   "outputs": [
    {
     "data": {
      "text/plain": [
       "array([11, 12, 13, 14, 15, 16, 17, 18])"
      ]
     },
     "execution_count": 51,
     "metadata": {},
     "output_type": "execute_result"
    }
   ],
   "source": [
    "x = np.array([11,12,13,14,15,16,17,18])\n",
    "x"
   ]
  },
  {
   "cell_type": "code",
   "execution_count": 52,
   "metadata": {},
   "outputs": [],
   "source": [
    "# 5-Day Moving Average\n",
    "N = 5"
   ]
  },
  {
   "cell_type": "code",
   "execution_count": 53,
   "metadata": {},
   "outputs": [
    {
     "data": {
      "text/plain": [
       "13.0"
      ]
     },
     "execution_count": 53,
     "metadata": {},
     "output_type": "execute_result"
    }
   ],
   "source": [
    "# First day of 5-day SMA\n",
    "np.sum(x[0:N])/N"
   ]
  },
  {
   "cell_type": "code",
   "execution_count": 54,
   "metadata": {},
   "outputs": [
    {
     "data": {
      "text/plain": [
       "14.0"
      ]
     },
     "execution_count": 54,
     "metadata": {},
     "output_type": "execute_result"
    }
   ],
   "source": [
    "# Second day of 5-day SMA\n",
    "np.sum(x[1:N+1])/N"
   ]
  },
  {
   "cell_type": "code",
   "execution_count": 55,
   "metadata": {},
   "outputs": [
    {
     "data": {
      "text/plain": [
       "15.0"
      ]
     },
     "execution_count": 55,
     "metadata": {},
     "output_type": "execute_result"
    }
   ],
   "source": [
    "# Third day of 5-day SMA\n",
    "np.sum(x[2:N+2])/N"
   ]
  },
  {
   "cell_type": "code",
   "execution_count": 56,
   "metadata": {},
   "outputs": [
    {
     "data": {
      "text/plain": [
       "16.0"
      ]
     },
     "execution_count": 56,
     "metadata": {},
     "output_type": "execute_result"
    }
   ],
   "source": [
    "# Fourth day of 5-day SMA\n",
    "np.sum(x[3:N+3])/N"
   ]
  },
  {
   "cell_type": "code",
   "execution_count": 57,
   "metadata": {},
   "outputs": [],
   "source": [
    "# Using np.convolve"
   ]
  },
  {
   "cell_type": "code",
   "execution_count": 58,
   "metadata": {},
   "outputs": [
    {
     "name": "stdout",
     "output_type": "stream",
     "text": [
      "Weights [0.2 0.2 0.2 0.2 0.2]\n"
     ]
    }
   ],
   "source": [
    "N = 5\n",
    "weights = np.ones(N)/N\n",
    "print(\"Weights\", weights)"
   ]
  },
  {
   "cell_type": "code",
   "execution_count": 59,
   "metadata": {},
   "outputs": [
    {
     "data": {
      "text/plain": [
       "array([ 2.2,  4.6,  7.2, 10. , 13. , 14. , 15. , 16. , 13.2, 10.2,  7. ,\n",
       "        3.6])"
      ]
     },
     "execution_count": 59,
     "metadata": {},
     "output_type": "execute_result"
    }
   ],
   "source": [
    "np.convolve(x, weights)"
   ]
  },
  {
   "cell_type": "code",
   "execution_count": 60,
   "metadata": {},
   "outputs": [
    {
     "data": {
      "text/plain": [
       "array([13., 14., 15., 16.])"
      ]
     },
     "execution_count": 60,
     "metadata": {},
     "output_type": "execute_result"
    }
   ],
   "source": [
    "np.convolve(x, weights)[N-1:-(N-1)]"
   ]
  },
  {
   "cell_type": "code",
   "execution_count": null,
   "metadata": {},
   "outputs": [],
   "source": []
  },
  {
   "cell_type": "code",
   "execution_count": null,
   "metadata": {},
   "outputs": [],
   "source": []
  },
  {
   "cell_type": "code",
   "execution_count": 61,
   "metadata": {},
   "outputs": [],
   "source": [
    "# Using the dataset\n",
    "\n",
    "# Import Date and closing price from the file (columns 0 and 5)\n",
    "\n",
    "dates, close = np.loadtxt(datafile, delimiter=',', \n",
    "                          skiprows=1, usecols=(0,5), \n",
    "                          converters={0: datestr2num},\n",
    "                          encoding='utf-8',\n",
    "                          unpack=True)\n",
    "\n",
    "close = np.round(close, 2)"
   ]
  },
  {
   "cell_type": "code",
   "execution_count": 62,
   "metadata": {},
   "outputs": [
    {
     "data": {
      "text/plain": [
       "252"
      ]
     },
     "execution_count": 62,
     "metadata": {},
     "output_type": "execute_result"
    }
   ],
   "source": [
    "len(close)"
   ]
  },
  {
   "cell_type": "code",
   "execution_count": 63,
   "metadata": {},
   "outputs": [],
   "source": [
    "# 20-day moving window\n",
    "\n",
    "N = 20"
   ]
  },
  {
   "cell_type": "code",
   "execution_count": 64,
   "metadata": {},
   "outputs": [],
   "source": [
    "weights = np.ones(N)/N"
   ]
  },
  {
   "cell_type": "code",
   "execution_count": 65,
   "metadata": {},
   "outputs": [
    {
     "data": {
      "text/plain": [
       "233"
      ]
     },
     "execution_count": 65,
     "metadata": {},
     "output_type": "execute_result"
    }
   ],
   "source": [
    "sma = np.convolve(c, weights)[N-1:-(N-1)]\n",
    "len(sma)"
   ]
  },
  {
   "cell_type": "code",
   "execution_count": 66,
   "metadata": {},
   "outputs": [
    {
     "data": {
      "text/plain": [
       "233"
      ]
     },
     "execution_count": 66,
     "metadata": {},
     "output_type": "execute_result"
    }
   ],
   "source": [
    "len(close[N-1:])"
   ]
  },
  {
   "cell_type": "code",
   "execution_count": 67,
   "metadata": {},
   "outputs": [
    {
     "data": {
      "image/png": "[encoded data removed]",
      "text/plain": [
       "<Figure size 432x288 with 1 Axes>"
      ]
     },
     "metadata": {
      "needs_background": "light"
     },
     "output_type": "display_data"
    }
   ],
   "source": [
    "t = np.arange(N - 1, len(close))\n",
    "\n",
    "plt.plot(t, close[N-1:], lw=1.0, label=\"Data\")\n",
    "\n",
    "plt.plot(t, sma, '--', lw=2.0, label=\"SMA\")\n",
    "\n",
    "plt.title(\"20 Day Moving Average\")\n",
    "plt.xlabel(\"Days\")\n",
    "plt.ylabel(\"Price ($)\")\n",
    "plt.grid()\n",
    "plt.legend()\n",
    "plt.show()"
   ]
  },
  {
   "cell_type": "code",
   "execution_count": 68,
   "metadata": {},
   "outputs": [
    {
     "data": {
      "image/png": "[encoded data removed]",
      "text/plain": [
       "<Figure size 864x576 with 1 Axes>"
      ]
     },
     "metadata": {
      "needs_background": "light"
     },
     "output_type": "display_data"
    }
   ],
   "source": [
    "fig, ax = plt.subplots(1, figsize=(12,8))\n",
    "\n",
    "candlestick_ohlc(ax, zip(np.arange(len(high[N-1:])),\n",
    "                         open[N-1:], high[N-1:],\n",
    "                         low[N-1:], close[N-1:]))\n",
    "\n",
    "t1 = np.arange(0, len(close) - N + 1)\n",
    "\n",
    "plt.plot(t1, close[N-1:], lw=2.0, label=\"Data\")\n",
    "\n",
    "plt.plot(t1, sma, '--', lw=2.0, label=\"SMA\")\n",
    "\n",
    "\n",
    "plt.xlabel('Days')\n",
    "\n",
    "plt.grid()\n",
    "plt.legend()\n",
    "plt.show()\n"
   ]
  },
  {
   "cell_type": "markdown",
   "metadata": {},
   "source": [
    "## Weighted Moving Average (WMA)"
   ]
  },
  {
   "cell_type": "code",
   "execution_count": 69,
   "metadata": {},
   "outputs": [
    {
     "data": {
      "text/plain": [
       "array([1.66666667, 3.33333333, 4.93333333, 6.4       , 7.66666667,\n",
       "       5.33333333, 3.33333333, 1.73333333, 0.6       ])"
      ]
     },
     "execution_count": 69,
     "metadata": {},
     "output_type": "execute_result"
    }
   ],
   "source": [
    "x = np.array([5,6,7,8,9])\n",
    "weights = np.array([5,4,3,2,1])\n",
    "np.convolve(x, weights)/np.sum(weights)"
   ]
  },
  {
   "cell_type": "code",
   "execution_count": 70,
   "metadata": {},
   "outputs": [
    {
     "data": {
      "text/plain": [
       "array([11, 12, 13, 14, 15, 16, 17, 18])"
      ]
     },
     "execution_count": 70,
     "metadata": {},
     "output_type": "execute_result"
    }
   ],
   "source": [
    "x = np.array([11,12,13,14,15,16,17,18])\n",
    "x"
   ]
  },
  {
   "cell_type": "code",
   "execution_count": 71,
   "metadata": {},
   "outputs": [],
   "source": [
    "# 5-Day Moving Average\n",
    "N = 5"
   ]
  },
  {
   "cell_type": "code",
   "execution_count": 72,
   "metadata": {},
   "outputs": [
    {
     "data": {
      "text/plain": [
       "array([1, 2, 3, 4, 5])"
      ]
     },
     "execution_count": 72,
     "metadata": {},
     "output_type": "execute_result"
    }
   ],
   "source": [
    "weights = np.arange(1, N+1)\n",
    "weights"
   ]
  },
  {
   "cell_type": "code",
   "execution_count": 73,
   "metadata": {},
   "outputs": [
    {
     "data": {
      "text/plain": [
       "13.666666666666666"
      ]
     },
     "execution_count": 73,
     "metadata": {},
     "output_type": "execute_result"
    }
   ],
   "source": [
    "# First day of 5-day WMA\n",
    "np.sum(x[0:N] * weights)/sum(weights)"
   ]
  },
  {
   "cell_type": "code",
   "execution_count": 74,
   "metadata": {},
   "outputs": [
    {
     "data": {
      "text/plain": [
       "14.666666666666666"
      ]
     },
     "execution_count": 74,
     "metadata": {},
     "output_type": "execute_result"
    }
   ],
   "source": [
    "# Second day of 5-day WMA\n",
    "np.sum(x[1:N+1] * weights)/sum(weights)"
   ]
  },
  {
   "cell_type": "code",
   "execution_count": 75,
   "metadata": {},
   "outputs": [
    {
     "data": {
      "text/plain": [
       "15.666666666666666"
      ]
     },
     "execution_count": 75,
     "metadata": {},
     "output_type": "execute_result"
    }
   ],
   "source": [
    "# Third day of 5-day WMA\n",
    "np.sum(x[2:N+2] * weights)/sum(weights)"
   ]
  },
  {
   "cell_type": "code",
   "execution_count": 76,
   "metadata": {},
   "outputs": [
    {
     "data": {
      "text/plain": [
       "16.666666666666668"
      ]
     },
     "execution_count": 76,
     "metadata": {},
     "output_type": "execute_result"
    }
   ],
   "source": [
    "# Fourth day of 5-day WMA\n",
    "np.sum(x[3:N+3] * weights)/sum(weights)"
   ]
  },
  {
   "cell_type": "code",
   "execution_count": 77,
   "metadata": {},
   "outputs": [
    {
     "data": {
      "text/plain": [
       "array([13.66666667, 14.66666667, 15.66666667, 16.66666667])"
      ]
     },
     "execution_count": 77,
     "metadata": {},
     "output_type": "execute_result"
    }
   ],
   "source": [
    "# Same as\n",
    "\n",
    "(np.convolve(x, weights[::-1])[N-1:-(N-1)])/sum(weights)"
   ]
  },
  {
   "cell_type": "code",
   "execution_count": 78,
   "metadata": {},
   "outputs": [],
   "source": [
    "# Using the dataset\n",
    "\n",
    "dates, close = np.loadtxt(datafile, delimiter=',', \n",
    "                          skiprows=1, usecols=(0,5), \n",
    "                          converters={0: datestr2num},\n",
    "                          encoding='utf-8',\n",
    "                          unpack=True)\n",
    "\n",
    "close = np.round(close, 2)"
   ]
  },
  {
   "cell_type": "code",
   "execution_count": 79,
   "metadata": {},
   "outputs": [],
   "source": [
    "# 20-day moving window\n",
    "\n",
    "N = 20"
   ]
  },
  {
   "cell_type": "code",
   "execution_count": 80,
   "metadata": {},
   "outputs": [
    {
     "data": {
      "text/plain": [
       "array([ 1,  2,  3,  4,  5,  6,  7,  8,  9, 10, 11, 12, 13, 14, 15, 16, 17,\n",
       "       18, 19, 20])"
      ]
     },
     "execution_count": 80,
     "metadata": {},
     "output_type": "execute_result"
    }
   ],
   "source": [
    "weights = np.arange(1, N+1)\n",
    "weights"
   ]
  },
  {
   "cell_type": "code",
   "execution_count": 81,
   "metadata": {},
   "outputs": [
    {
     "data": {
      "text/plain": [
       "array([171.81071429, 172.55180952, 173.31419048, 174.21619048,\n",
       "       175.2792381 ])"
      ]
     },
     "execution_count": 81,
     "metadata": {},
     "output_type": "execute_result"
    }
   ],
   "source": [
    "wma = (np.convolve(c, weights[::-1])[N-1:-(N-1)])/sum(weights)\n",
    "wma[:5]"
   ]
  },
  {
   "cell_type": "code",
   "execution_count": 82,
   "metadata": {},
   "outputs": [
    {
     "data": {
      "image/png": "[encoded data removed]",
      "text/plain": [
       "<Figure size 864x576 with 1 Axes>"
      ]
     },
     "metadata": {
      "needs_background": "light"
     },
     "output_type": "display_data"
    }
   ],
   "source": [
    "fig, ax = plt.subplots(1, figsize=(12,8))\n",
    "\n",
    "candlestick_ohlc(ax, zip(np.arange(len(high[N-1:])),\n",
    "                         open[N-1:], high[N-1:],\n",
    "                         low[N-1:], close[N-1:]))\n",
    "\n",
    "t1 = np.arange(0, len(close) - N + 1)\n",
    "\n",
    "plt.plot(t1, close[N-1:], lw=2.0, label=\"Data\")\n",
    "\n",
    "plt.plot(t1, sma, '--', lw=2.0, label=\"SMA\")\n",
    "\n",
    "plt.plot(t1, wma, '-.', lw=2.0, label=\"WMA\")\n",
    "\n",
    "\n",
    "plt.xlabel('Days')\n",
    "\n",
    "plt.grid()\n",
    "plt.legend()\n",
    "plt.show()\n"
   ]
  },
  {
   "cell_type": "code",
   "execution_count": null,
   "metadata": {},
   "outputs": [],
   "source": []
  },
  {
   "cell_type": "markdown",
   "metadata": {},
   "source": [
    "## Exponential Moving Average (EMA)\n",
    " - For analyzing time-series data\n",
    " - Alternative to SMA\n",
    " - Moving window of N periods\n",
    " - Uses exponentially decreasing weights\n",
    " - Gives higher weights to recent prices\n",
    " "
   ]
  },
  {
   "cell_type": "code",
   "execution_count": 83,
   "metadata": {},
   "outputs": [
    {
     "data": {
      "text/plain": [
       "array([11, 12, 13, 14, 15, 16, 17, 18])"
      ]
     },
     "execution_count": 83,
     "metadata": {},
     "output_type": "execute_result"
    }
   ],
   "source": [
    "x = np.array([11,12,13,14,15,16,17,18])\n",
    "x"
   ]
  },
  {
   "cell_type": "code",
   "execution_count": 84,
   "metadata": {},
   "outputs": [
    {
     "data": {
      "text/plain": [
       "array([1.        , 1.28402542, 1.64872127, 2.11700002, 2.71828183])"
      ]
     },
     "execution_count": 84,
     "metadata": {},
     "output_type": "execute_result"
    }
   ],
   "source": [
    "N = 5\n",
    "weights = np.exp(np.linspace(0, 1, N))\n",
    "weights"
   ]
  },
  {
   "cell_type": "code",
   "execution_count": 85,
   "metadata": {},
   "outputs": [
    {
     "name": "stdout",
     "output_type": "stream",
     "text": [
      "Weights [0.11405072 0.14644403 0.18803785 0.24144538 0.31002201]\n"
     ]
    }
   ],
   "source": [
    "# Normalize weights\n",
    "weights /= weights.sum()\n",
    "print(\"Weights\", weights)"
   ]
  },
  {
   "cell_type": "code",
   "execution_count": 86,
   "metadata": {},
   "outputs": [
    {
     "data": {
      "text/plain": [
       "array([13.48694393, 14.48694393, 15.48694393, 16.48694393])"
      ]
     },
     "execution_count": 86,
     "metadata": {},
     "output_type": "execute_result"
    }
   ],
   "source": [
    "np.convolve(x, weights[::-1])[N-1:-(N-1)]"
   ]
  },
  {
   "cell_type": "code",
   "execution_count": null,
   "metadata": {},
   "outputs": [],
   "source": []
  },
  {
   "cell_type": "code",
   "execution_count": 87,
   "metadata": {},
   "outputs": [],
   "source": [
    "# Using the dataset\n",
    "\n",
    "# Import Date and closing price from the file (columns 0 and 5)\n",
    "\n",
    "dates, close = np.loadtxt(datafile, delimiter=',', \n",
    "                          skiprows=1, usecols=(0,5), \n",
    "                          converters={0: datestr2num},\n",
    "                          encoding='utf-8',\n",
    "                          unpack=True)\n",
    "\n",
    "close = np.round(close, 2)"
   ]
  },
  {
   "cell_type": "code",
   "execution_count": 88,
   "metadata": {},
   "outputs": [],
   "source": [
    "# 20-day moving window\n",
    "\n",
    "N = 20"
   ]
  },
  {
   "cell_type": "code",
   "execution_count": 89,
   "metadata": {},
   "outputs": [],
   "source": [
    "weights = np.exp(np.linspace(0, 1, N))\n",
    "\n",
    "# Normalize weights\n",
    "weights /= weights.sum()"
   ]
  },
  {
   "cell_type": "code",
   "execution_count": 90,
   "metadata": {},
   "outputs": [
    {
     "data": {
      "text/plain": [
       "233"
      ]
     },
     "execution_count": 90,
     "metadata": {},
     "output_type": "execute_result"
    }
   ],
   "source": [
    "ema = np.convolve(c, weights[::-1])[N-1:-(N-1)]\n",
    "len(ema)"
   ]
  },
  {
   "cell_type": "code",
   "execution_count": null,
   "metadata": {},
   "outputs": [],
   "source": []
  },
  {
   "cell_type": "code",
   "execution_count": 91,
   "metadata": {},
   "outputs": [
    {
     "data": {
      "image/png": "[encoded data removed]",
      "text/plain": [
       "<Figure size 864x576 with 1 Axes>"
      ]
     },
     "metadata": {
      "needs_background": "light"
     },
     "output_type": "display_data"
    }
   ],
   "source": [
    "fig, ax = plt.subplots(1, figsize=(12,8))\n",
    "\n",
    "candlestick_ohlc(ax, zip(np.arange(len(high[N-1:])),\n",
    "                         open[N-1:], high[N-1:],\n",
    "                         low[N-1:], close[N-1:]))\n",
    "\n",
    "t1 = np.arange(0, len(close) - N + 1)\n",
    "\n",
    "plt.plot(t1, close[N-1:], lw=2.0, label=\"Data\")\n",
    "\n",
    "plt.plot(t1, sma, '--', lw=2.0, label=\"SMA\")\n",
    "\n",
    "plt.plot(t1, wma, '-.', lw=2.0, label=\"WMA\")\n",
    "\n",
    "plt.plot(t1, ema, ':', lw=2.0, label=\"eMA\")\n",
    "\n",
    "\n",
    "plt.xlabel('Days')\n",
    "\n",
    "plt.grid()\n",
    "plt.legend()\n",
    "plt.show()"
   ]
  },
  {
   "cell_type": "code",
   "execution_count": null,
   "metadata": {},
   "outputs": [],
   "source": []
  }
 ],
 "metadata": {
  "kernelspec": {
   "display_name": "Python 3",
   "language": "python",
   "name": "python3"
  },
  "language_info": {
   "codemirror_mode": {
    "name": "ipython",
    "version": 3
   },
   "file_extension": ".py",
   "mimetype": "text/x-python",
   "name": "python",
   "nbconvert_exporter": "python",
   "pygments_lexer": "ipython3",
   "version": "3.7.1"
  }
 },
 "nbformat": 4,
 "nbformat_minor": 2
}
